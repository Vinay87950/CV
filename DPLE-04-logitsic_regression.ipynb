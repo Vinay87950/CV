{
 "cells": [
  {
   "cell_type": "markdown",
   "id": "6bfba2bb-cee6-4aaa-8622-1db60d8bb4f1",
   "metadata": {},
   "source": [
    "#### build a log regression from scratch"
   ]
  },
  {
   "cell_type": "code",
   "execution_count": 1,
   "id": "25ebc685-14db-4dd0-9167-9383829ef0f5",
   "metadata": {},
   "outputs": [],
   "source": [
    "import numpy as np\n",
    "import pandas as pd \n",
    "import matplotlib.pyplot as plt\n",
    "from sklearn.model_selection import train_test_split\n",
    "from sklearn import datasets"
   ]
  },
  {
   "cell_type": "code",
   "execution_count": null,
   "id": "0ee56909-2e12-4963-a42d-f4ba9e084d8e",
   "metadata": {},
   "outputs": [],
   "source": []
  },
  {
   "cell_type": "code",
   "execution_count": 7,
   "id": "5385d980-c4ff-4134-aa9e-b44a2824feec",
   "metadata": {},
   "outputs": [],
   "source": [
    "class LogisticRegression:\n",
    "    \"\"\"Logistic regression model for binary classification.\"\"\"\n",
    "    def __init__(self, learning_rate=0.0001, iterations=1000):\n",
    "        self.learning_rate = learning_rate\n",
    "        self.iterations = iterations\n",
    "        self.params = None\n",
    "        self.loss_history = []\n",
    "\n",
    "    @staticmethod\n",
    "    def _sigmoid(x):\n",
    "        \"\"\"Compute the sigmoid of x.\"\"\"\n",
    "        return 1 / (1 + np.exp(-x))\n",
    "\n",
    "    def _compute_loss(self, y, y_predicted):\n",
    "        \"\"\"Compute the binary cross-entropy loss.\"\"\"\n",
    "        return -np.mean(y * np.log(y_predicted) + (1 - y) * np.log(1 - y_predicted))\n",
    "\n",
    "    def _compute_gradients(self, X, y, y_predicted):\n",
    "        \"\"\"Compute the gradients of the loss function.\"\"\"\n",
    "        n_samples = X.shape[0]\n",
    "        dw = (1 / n_samples) * np.dot(X.T, (y_predicted - y))\n",
    "        db = (1 / n_samples) * np.sum(y_predicted - y)\n",
    "        return dw, db\n",
    "\n",
    "    def fit(self, X, y):\n",
    "        \"\"\"Fit the logistic regression model to the data.\"\"\"\n",
    "        n_features = X.shape[1]\n",
    "        self.params = ModelParameters(n_features, self.learning_rate)\n",
    "\n",
    "        for _ in range(self.iterations):\n",
    "            linear_model = np.dot(X, self.params.weights) + self.params.bias\n",
    "            y_predicted = self._sigmoid(linear_model)\n",
    "\n",
    "            loss = self._compute_loss(y, y_predicted)\n",
    "            self.loss_history.append(loss)\n",
    "\n",
    "            dw, db = self._compute_gradients(X, y, y_predicted)\n",
    "            self.params.update_parameters(dw, db)\n",
    "            \n",
    "    def predict(self, X):\n",
    "        \"\"\"Predict binary labels for a set of inputs.\"\"\"\n",
    "        linear_model = np.dot(X, self.params.weights) + self.params.bias\n",
    "        y_predicted = self._sigmoid(linear_model)\n",
    "        return [1 if i > 0.5 else 0 for i in y_predicted]"
   ]
  },
  {
   "cell_type": "code",
   "execution_count": 3,
   "id": "feaa685d-2587-46e8-be23-c6e3c0d1aa04",
   "metadata": {},
   "outputs": [],
   "source": [
    "class ModelParameters:\n",
    "    def __init__(self, n_features, learning_rate):\n",
    "        self.learning_rate = learning_rate\n",
    "        self.weights = np.zeros(n_features)\n",
    "        self.bias = 0\n",
    "    \n",
    "    def update_parameters(self, dw, db):\n",
    "        self.weights -= self.learning_rate * dw\n",
    "        self.bias -= self.learning_rate * db"
   ]
  },
  {
   "cell_type": "code",
   "execution_count": 4,
   "id": "5f5c49ed-139a-458a-8206-2f2ccc6ee12b",
   "metadata": {},
   "outputs": [],
   "source": [
    "class LossPlotter:\n",
    "    \"\"\"Class for plotting loss over training iterations.\"\"\"\n",
    "    def __init__(self, loss_history):\n",
    "        self.loss_history = loss_history\n",
    "\n",
    "    def plot(self):\n",
    "        \"\"\"Plot the loss over iterations.\"\"\"\n",
    "        plt.plot(self.loss_history)\n",
    "        plt.title('Loss over Iterations')\n",
    "        plt.xlabel('Iterations')\n",
    "        plt.ylabel('Loss')\n",
    "        plt.show()\n"
   ]
  },
  {
   "cell_type": "code",
   "execution_count": 5,
   "id": "a235eda0-84f8-4a90-94c9-f6d662aab31d",
   "metadata": {},
   "outputs": [],
   "source": [
    "def load_data():\n",
    "    \"\"\"Load and split the dataset.\"\"\"\n",
    "    bc = datasets.load_breast_cancer()\n",
    "    X, y = bc.data, bc.target\n",
    "    return train_test_split(X, y, test_size=0.2, random_state=1234)\n"
   ]
  },
  {
   "cell_type": "code",
   "execution_count": 9,
   "id": "d2aec1c2-c7ee-454d-8abf-c21f39bb97f1",
   "metadata": {},
   "outputs": [
    {
     "name": "stderr",
     "output_type": "stream",
     "text": [
      "/var/folders/jx/gmf9hmt9121dk7k_2zkkvj1w0000gn/T/ipykernel_71223/2415115368.py:16: RuntimeWarning: divide by zero encountered in log\n",
      "  return -np.mean(y * np.log(y_predicted) + (1 - y) * np.log(1 - y_predicted))\n",
      "/var/folders/jx/gmf9hmt9121dk7k_2zkkvj1w0000gn/T/ipykernel_71223/2415115368.py:16: RuntimeWarning: invalid value encountered in multiply\n",
      "  return -np.mean(y * np.log(y_predicted) + (1 - y) * np.log(1 - y_predicted))\n"
     ]
    },
    {
     "name": "stdout",
     "output_type": "stream",
     "text": [
      "Accuracy: 0.9298\n"
     ]
    },
    {
     "data": {
      "image/png": "[encoded data removed]",
      "text/plain": [
       "<Figure size 640x480 with 1 Axes>"
      ]
     },
     "metadata": {},
     "output_type": "display_data"
    }
   ],
   "source": [
    "if __name__ == \"__main__\":\n",
    "    X_train, X_test, y_train, y_test = load_data()\n",
    "\n",
    "    # Training the model\n",
    "    clf = LogisticRegression(learning_rate=0.0001, iterations=1000)\n",
    "    clf.fit(X_train, y_train)\n",
    "\n",
    "    # Predicting\n",
    "    predictions = clf.predict(X_test)\n",
    "\n",
    "    # Evaluation\n",
    "    accuracy = np.mean(predictions == y_test)\n",
    "    print(f\"Accuracy: {accuracy:.4f}\")\n",
    "\n",
    "    # Plotting loss\n",
    "    plotter = LossPlotter(clf.loss_history)\n",
    "    plotter.plot()"
   ]
  },
  {
   "cell_type": "code",
   "execution_count": null,
   "id": "201ac331-9724-45cd-8d8f-8616fbfef6dd",
   "metadata": {},
   "outputs": [],
   "source": []
  },
  {
   "cell_type": "code",
   "execution_count": null,
   "id": "cfb19c75-6c95-4cba-8451-59d715874523",
   "metadata": {},
   "outputs": [],
   "source": []
  }
 ],
 "metadata": {
  "kernelspec": {
   "display_name": "Python 3 (ipykernel)",
   "language": "python",
   "name": "python3"
  },
  "language_info": {
   "codemirror_mode": {
    "name": "ipython",
    "version": 3
   },
   "file_extension": ".py",
   "mimetype": "text/x-python",
   "name": "python",
   "nbconvert_exporter": "python",
   "pygments_lexer": "ipython3",
   "version": "3.11.6"
  }
 },
 "nbformat": 4,
 "nbformat_minor": 5
}
